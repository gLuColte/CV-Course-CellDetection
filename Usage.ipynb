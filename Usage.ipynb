{
 "cells": [
  {
   "cell_type": "code",
   "execution_count": 1,
   "metadata": {},
   "outputs": [],
   "source": [
    "import cv2 as cv\n",
    "from src.predict import predict_img"
   ]
  },
  {
   "cell_type": "code",
   "execution_count": 2,
   "metadata": {},
   "outputs": [],
   "source": [
    "img = cv.imread(\"COMP9517 20T2 Group Project Image Sequences/PhC-C2DL-PSC/Sequence 1/t000.tif\", cv.IMREAD_GRAYSCALE)\n",
    "im, sg, ds = predict_img(img, mode=\"phc\")\n",
    "cv.imshow('im', img)\n",
    "cv.imshow('sg', sg)\n",
    "cv.imshow('ds', ds)\n",
    "cv.waitKey(0)\n",
    "cv.destroyAllWindows()"
   ]
  },
  {
   "cell_type": "code",
   "execution_count": 3,
   "metadata": {},
   "outputs": [],
   "source": [
    "img = cv.imread(\"COMP9517 20T2 Group Project Image Sequences/DIC-C2DH-HeLa/Sequence 1/t000.tif\", cv.IMREAD_GRAYSCALE)\n",
    "im, sg, ds = predict_img(img, mode=\"dic\")\n",
    "cv.imshow('im', img)\n",
    "cv.imshow('sg', sg)\n",
    "cv.imshow('ds', ds)\n",
    "cv.waitKey(0)\n",
    "cv.destroyAllWindows()"
   ]
  },
  {
   "cell_type": "code",
   "execution_count": 4,
   "metadata": {},
   "outputs": [],
   "source": [
    "img = cv.imread(\"COMP9517 20T2 Group Project Image Sequences/Fluo-N2DL-HeLa/Sequence 1/t000.tif\", cv.IMREAD_GRAYSCALE)\n",
    "im, sg, ds = predict_img(img, mode=\"fluo\")\n",
    "cv.imshow('im', im)\n",
    "cv.imshow('sg', sg)\n",
    "cv.imshow('ds', ds)\n",
    "cv.waitKey(0)\n",
    "cv.destroyAllWindows()"
   ]
  }
 ],
 "metadata": {
  "kernelspec": {
   "display_name": "Python 3",
   "language": "python",
   "name": "python3"
  },
  "language_info": {
   "codemirror_mode": {
    "name": "ipython",
    "version": 3
   },
   "file_extension": ".py",
   "mimetype": "text/x-python",
   "name": "python",
   "nbconvert_exporter": "python",
   "pygments_lexer": "ipython3",
   "version": "3.8.2"
  }
 },
 "nbformat": 4,
 "nbformat_minor": 4
}
